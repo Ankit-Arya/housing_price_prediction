{
 "cells": [
  {
   "cell_type": "markdown",
   "id": "fe1f12f2",
   "metadata": {},
   "source": [
    "# IIT-B & UpGrad\n",
    "# Assignmnet-2"
   ]
  },
  {
   "cell_type": "markdown",
   "id": "3c3b3dd4",
   "metadata": {},
   "source": [
    "1. Intoduction\n",
    "A US-based housing company named Surprise Housing has decided to enter the Australian market. The company uses data analytics to purchase houses at a price below their actual values and flip them on at a higher price. For the same purpose, the company has collected a data set from the sale of houses in Australia. The data is provided in the CSV file below.\n",
    "The company is looking at prospective properties to buy to enter the market. You are required to build a regression model using regularisation in order to predict the actual value of the prospective properties and decide whether to invest in them or not.\n",
    "2. Bussiness Goal\n",
    "Model the price of houses with the available independent variables.\n",
    "This model will then be used by the management to understand how exactly the prices vary with the variables.\n",
    "Model should help manipulate the strategy of the firm and concentrate on areas that will yield high returns.\n",
    "Further, the model will be a good way for management to understand the pricing dynamics of a new market.\n",
    "\n",
    "The company wants to know:\n",
    "\n",
    "    Which variables are significant in predicting the price of a house.\n",
    "    How well those variables describe the price of a house."
   ]
  },
  {
   "cell_type": "code",
   "execution_count": null,
   "id": "c79206d7",
   "metadata": {},
   "outputs": [],
   "source": [
    "# IMPORTING ESSENTIAL LIBRARIES AND DEPENDANCIES\n",
    "\n",
    "import pandas as pd\n",
    "import numpy as np\n",
    "from sklearn.model_selection import train_test_split, cross_val_score\n",
    "\n",
    "# Visualisation\n",
    "import matplotlib.pyplot as plt\n",
    "import seaborn as sns\n",
    "import warnings\n",
    "warnings.filterwarnings('ignore')\n",
    "\n",
    "import statsmodels\n",
    "import statsmodels.api as sm\n",
    "import sklearn\n",
    "from sklearn.model_selection import train_test_split\n",
    "from sklearn.metrics import r2_score\n",
    "from sklearn.linear_model import LinearRegression # LinearRegresion is a class as L and R are in upper case\n",
    "from sklearn.preprocessing import MinMaxScaler as MinMax\n",
    "from sklearn.preprocessing import StandardScaler as sc\n",
    "\n",
    "import statsmodels.api as sm\n",
    "from sklearn.linear_model import LinearRegression, Ridge, Lasso\n",
    "from sklearn.metrics import mean_squared_error, r2_score\n",
    "\n",
    "from sklearn.feature_selection import RFE\n",
    "import statsmodels.api as sm\n",
    "from statsmodels.stats.outliers_influence import variance_inflation_factor"
   ]
  },
  {
   "cell_type": "code",
   "execution_count": null,
   "id": "e763700d",
   "metadata": {},
   "outputs": [],
   "source": [
    "# LOAD DATA\n",
    "\n",
    "house_raw = pd.read_csv('https://ml-course3-upgrad.s3.amazonaws.com/Assignment_+Advanced+Regression/train.csv')\n",
    "house_raw.shape\n"
   ]
  },
  {
   "cell_type": "code",
   "execution_count": null,
   "id": "ed2f8277",
   "metadata": {},
   "outputs": [],
   "source": [
    "# CHECKING DATA\n",
    "\n",
    "house_raw.head(50)"
   ]
  },
  {
   "cell_type": "code",
   "execution_count": null,
   "id": "1fe0d163",
   "metadata": {},
   "outputs": [],
   "source": [
    "# USING STATISTICS TO DEAL WITH MISSING VALUES\n",
    "\n",
    "# This function will retun a data frame with missing values and its percentage\n",
    "\n",
    "def missing_data(data):\n",
    "    total = data.isna().sum()[data.isna().sum() != 0]\n",
    "    percent = (data.isnull().sum()/data.isnull().count()*100).sort_values(ascending = False)\n",
    "    missing_df = pd.concat([total, percent], axis=1, keys=['Total', 'Percent'])\n",
    "    if [missing_df['Total'] == 0]:\n",
    "        missing_df.dropna(axis=0, inplace = True)\n",
    "    return missing_df\n",
    "\n",
    "# Function to check unique values in columns\n",
    "def col_unique_value_check(x,colname):\n",
    "    print(\"Number of unique values are : \", x[colname].nunique(), '\\n')\n",
    "    print(\"Value Counts\", '\\n', x[colname].value_counts(),'\\n')\n",
    "    numbers = x[colname].isnull().sum()\n",
    "    missing_percent = (x[colname].isnull().sum()/len(x[colname])*100)\n",
    "    print('Number of unique of value in {} is {} & percentage is {} %'.format(colname, numbers, round(missing_percent,3)))\n",
    "    return\n",
    "\n",
    "# Function to drop columns based on thereshold of missing values\n",
    "def drop_missing_value_col(x,thershold):\n",
    "    drop_cols = (x.isnull().sum()/len(x))\n",
    "    drop_cols = list(drop_cols[drop_cols.values >= thershold].index)\n",
    "    print(\"No of cols to be dropped :\",len(drop_cols))    \n",
    "    print(drop_cols)\n",
    "    x.drop(labels = drop_cols,axis =1, inplace = True)     \n",
    "    print(x.shape)\n",
    "    return\n",
    "\n",
    "# Function to impute missing values\n",
    "def impute_values(x):\n",
    "    missing_cols = [c for c in\n",
    "                  x.columns\n",
    "                  if x[c].isnull().sum()>0]\n",
    "    int_col = [i for i in missing_cols\n",
    "             if x[i].dtype == 'float64']\n",
    "    str_col = [i for i in missing_cols\n",
    "             if x[i].dtype == 'object' ]   \n",
    "     # x[c] = x[c].fillna[x[c].median(), inplace = True]\n",
    "    print(int_col)\n",
    "    print(str_col)\n",
    "    for c in x.columns:\n",
    "    if x[c].isnull().sum()>0:\n",
    "        if x[c].dtype == 'float64':\n",
    "        x[c].fillna(x[c].median(), inplace=True)\n",
    "        elif x[c].dtype == 'int':\n",
    "        x[c].fillna(x[c].median(), inplace=True)\n",
    "        elif x[c].dtype == 'object':\n",
    "        x[c].fillna(x[c].mode()[0], inplace=True)\n"
   ]
  },
  {
   "cell_type": "code",
   "execution_count": null,
   "id": "835ed2c6",
   "metadata": {},
   "outputs": [],
   "source": [
    "# VISUALISING DATA FOR ANALYSIS\n",
    "\n",
    "def cat_chart(var1,var2, label_rotation):\n",
    "    f, ax = plt.subplots(2,2, figsize=(12,10))\n",
    "    f.subplots_adjust(hspace=0.5, wspace=0.5)\n",
    "\n",
    "    sns.countplot(data=h_train, x=h_train[var1], palette ='rainbow',  ax=ax[0,0])\n",
    "    sns.boxplot(x=h_train[var1], y=h_train.SalePrice, palette=('husl'), ax= ax[0,1])\n",
    "    ax[0,0].set_title(label = 'Count Plot of '+ var1, size = 14, fontweight = 'bold', fontsize = 14, color = 'blue')\n",
    "    ax[0,0].set_xlabel(xlabel = '%s'%var1, size = 14, fontweight = 'bold', fontsize = 14, color = 'blue')\n",
    "    ax[0,0].set_ylabel(ylabel = 'Count of '+ '%s'%var1, size = 14, fontweight = 'bold', fontsize = 14, color = 'blue')\n",
    "    if(label_rotation):\n",
    "        ax[0,0].set_xticklabels(ax[0,0].get_xticklabels(),rotation=90)\n",
    "\n",
    "    ax[0,1].set_title(label = 'Price Vs '+ var1, size = 14, fontweight = 'bold', fontsize = 14, color = 'blue')\n",
    "    ax[0,1].set_xlabel(xlabel = '%s'%var1, size = 14, fontweight = 'bold', fontsize = 14, color = 'blue')\n",
    "    ax[0,1].set_ylabel(ylabel = 'Sale Price', size = 14, fontweight = 'bold', fontsize = 14, color = 'blue')\n",
    "    if(label_rotation):\n",
    "        ax[0,1].set_xticklabels(ax[0,1].get_xticklabels(),rotation=90)\n",
    "\n",
    "    ax[0,0].tick_params(axis=\"x\", labelsize=14, labelcolor=\"purple\" )\n",
    "    ax[0,1].tick_params(axis=\"x\", labelsize=14, labelcolor=\"purple\")\n",
    "\n",
    "\n",
    "    sns.countplot(data=h_train, x=h_train[var2], palette ='rainbow',  ax=ax[1,0])\n",
    "    sns.boxplot(x=h_train[var2], y=h_train.SalePrice, palette=('husl'), ax= ax[1,1])\n",
    "    ax[1,0].set_title(label = 'Count Plot of '+ var2, size = 14, fontweight = 'bold', fontsize = 14, color = 'blue')\n",
    "    ax[1,0].set_xlabel(xlabel = '%s'%var2, size = 14, fontweight = 'bold', fontsize = 14, color = 'blue')\n",
    "    ax[1,0].set_ylabel(ylabel = 'Count of '+ '%s'%var2, size = 14, fontweight = 'bold', fontsize = 14, color = 'blue')\n",
    "    if(label_rotation):\n",
    "        ax[1,0].set_xticklabels(ax[1,0].get_xticklabels(),rotation=90)\n",
    "\n",
    "    ax[1,1].set_title(label = 'Price Vs '+ var2, size = 14, fontweight = 'bold', fontsize = 14, color = 'blue')\n",
    "    ax[1,1].set_xlabel(xlabel = '%s'%var2, size = 14, fontweight = 'bold', fontsize = 14, color = 'blue')\n",
    "    ax[1,1].set_ylabel(ylabel = 'Sale Price', size = 14, fontweight = 'bold', fontsize = 14, color = 'blue')\n",
    "    if(label_rotation):\n",
    "        ax[1,1].set_xticklabels(ax[1,1].get_xticklabels(),rotation=90)\n",
    "\n",
    "    ax[1,0].tick_params(axis=\"x\", labelsize=14, labelcolor=\"purple\")\n",
    "    ax[1,1].tick_params(axis=\"x\", labelsize=14, labelcolor=\"purple\")\n",
    "def pair_p(w,x,y,z):\n",
    "    sns.pairplot(h_train, x_vars=[w,x,y,z], y_vars='SalePrice',height=4, aspect=1, kind='scatter')\n",
    "    plt.show()"
   ]
  },
  {
   "cell_type": "markdown",
   "id": "ca2b00b7",
   "metadata": {},
   "source": [
    "## SPLIT DATA"
   ]
  },
  {
   "cell_type": "code",
   "execution_count": null,
   "id": "1632fe7e",
   "metadata": {},
   "outputs": [],
   "source": [
    "h_train, h_test = train_test_split(house_raw,test_size=0.3, random_state = 2)"
   ]
  },
  {
   "cell_type": "code",
   "execution_count": null,
   "id": "b02e7f26",
   "metadata": {},
   "outputs": [],
   "source": [
    "print('train data shape: ', h_train.shape)\n",
    "print('test data shape : ', h_test.shape)"
   ]
  },
  {
   "cell_type": "code",
   "execution_count": null,
   "id": "c297d0f9",
   "metadata": {},
   "outputs": [],
   "source": [
    "h_train.info()"
   ]
  },
  {
   "cell_type": "markdown",
   "id": "2220169a",
   "metadata": {},
   "source": [
    "## DATA EXPLORATION AND ANALYSIS "
   ]
  },
  {
   "cell_type": "code",
   "execution_count": null,
   "id": "a467f9dd",
   "metadata": {},
   "outputs": [],
   "source": [
    "missing_data(h_train)"
   ]
  },
  {
   "cell_type": "code",
   "execution_count": null,
   "id": "8ef44057",
   "metadata": {},
   "outputs": [],
   "source": [
    "# VISUALIZE DATA\n",
    "plt.figure(figsize=(18,8))\n",
    "h_train.isna().sum().plot.bar()\n",
    "plt.show()"
   ]
  },
  {
   "cell_type": "code",
   "execution_count": null,
   "id": "ec8c110c",
   "metadata": {},
   "outputs": [],
   "source": [
    "# HANDLE MISSING VALUES\n",
    "\n",
    "drop_missing_value_col(h_train,.3)"
   ]
  },
  {
   "cell_type": "code",
   "execution_count": null,
   "id": "f8db2db7",
   "metadata": {},
   "outputs": [],
   "source": [
    "missing_data(h_train)"
   ]
  },
  {
   "cell_type": "code",
   "execution_count": null,
   "id": "385a0ae4",
   "metadata": {},
   "outputs": [],
   "source": [
    "impute_values(h_train)"
   ]
  },
  {
   "cell_type": "code",
   "execution_count": null,
   "id": "3d2aa983",
   "metadata": {},
   "outputs": [],
   "source": [
    "# HANDLING DTYPE\n",
    "\n",
    "h_train['MSSubClass'] = h_train['MSSubClass'].astype('str')"
   ]
  },
  {
   "cell_type": "code",
   "execution_count": null,
   "id": "2ed5335e",
   "metadata": {},
   "outputs": [],
   "source": [
    "# AGAIN USING STATISTICS FOR OUTLIER DETECTION\n",
    "\n",
    "h_test.describe().T"
   ]
  },
  {
   "cell_type": "code",
   "execution_count": null,
   "id": "298e8fcc",
   "metadata": {},
   "outputs": [],
   "source": [
    "# VISUALIZING OUTLIERS\n",
    "\n",
    "f, ax = plt.subplots(2,3, figsize=(20,10))\n",
    "\n",
    "sns.boxplot(y=\"LotFrontage\", data=h_train, ax = ax[0,0])\n",
    "sns.boxplot(y=\"LotArea\", data=h_train, ax = ax[0,1])\n",
    "sns.boxplot(y=\"MasVnrArea\", data=h_train, ax = ax[0,2])\n",
    "sns.boxplot(y=\"BsmtFinSF1\", data=h_train, ax = ax[1,0])\n",
    "sns.boxplot(y=\"BsmtUnfSF\", data=h_train, ax = ax[1,1])\n",
    "sns.boxplot(y=\"BsmtFinSF2\", data=h_train, ax = ax[1,2])"
   ]
  },
  {
   "cell_type": "code",
   "execution_count": null,
   "id": "bff1a5a9",
   "metadata": {},
   "outputs": [],
   "source": [
    "f, ax = plt.subplots(2,3, figsize=(20,10))\n",
    "\n",
    "sns.boxplot(y=\"WoodDeckSF\", data=h_train, ax = ax[0,0])\n",
    "sns.boxplot(y=\"OpenPorchSF\", data=h_train, ax = ax[0,1])\n",
    "sns.boxplot(y=\"EnclosedPorch\", data=h_train, ax = ax[0,2])\n",
    "sns.boxplot(y=\"3SsnPorch\", data=h_train, ax = ax[1,0])\n",
    "sns.boxplot(y=\"ScreenPorch\", data=h_train, ax = ax[1,1])\n",
    "sns.boxplot(y=\"PoolArea\", data=h_train, ax = ax[1,2])"
   ]
  },
  {
   "cell_type": "code",
   "execution_count": null,
   "id": "8a72aba8",
   "metadata": {},
   "outputs": [],
   "source": [
    "# HANDLING OUTLIERS 95-100%\n",
    "\n",
    "lot_frontage_q = h_train[\"LotFrontage\"].quantile(0.95)\n",
    "h_train = h_train[h_train[\"LotFrontage\"] < lot_frontage_q]\n",
    "\n",
    "open_porch_sf_q = h_train[\"OpenPorchSF\"].quantile(0.95)\n",
    "h_train = h_train[h_train[\"OpenPorchSF\"] < open_porch_sf_q]\n",
    "\n",
    "gr_liv_area_q = h_train[\"GrLivArea\"].quantile(0.95)\n",
    "h_train = h_train[h_train[\"GrLivArea\"] < gr_liv_area_q]\n",
    "\n",
    "garage_area_q = h_train[\"GarageArea\"].quantile(0.95)\n",
    "h_train = h_train[h_train[\"GarageArea\"] < garage_area_q]\n",
    "\n",
    "bsmt_fin_sf2_q = h_train[\"BsmtFinSF2\"].quantile(0.95)\n",
    "h_train = h_train[h_train[\"BsmtFinSF2\"] < bsmt_fin_sf2_q]"
   ]
  },
  {
   "cell_type": "code",
   "execution_count": null,
   "id": "8cf14be4",
   "metadata": {},
   "outputs": [],
   "source": [
    "h_train=h_train.drop(['PoolArea','Id','3SsnPorch','LowQualFinSF','Utilities'], axis=1)"
   ]
  },
  {
   "cell_type": "markdown",
   "id": "99ef3ac3",
   "metadata": {},
   "source": [
    "# FEATURE ENGINEERING\n"
   ]
  },
  {
   "cell_type": "code",
   "execution_count": null,
   "id": "dde362cc",
   "metadata": {},
   "outputs": [],
   "source": [
    "#DERIVED VARIABLES TO MAKE SENSE OUT OF DATA\n",
    "\n",
    "h_train['Age'] = h_train['YrSold'] - h_train['YearBuilt']\n",
    "h_train['Remod_Age'] = h_train['YrSold'] - h_train['YearRemodAdd']\n",
    "h_train['Garage_Age'] = h_train['YrSold'] - h_train['GarageYrBlt']\n",
    "h_train.drop(['YearBuilt','YearRemodAdd','GarageYrBlt','YrSold'],1, inplace = True)"
   ]
  },
  {
   "cell_type": "code",
   "execution_count": null,
   "id": "8a814188",
   "metadata": {},
   "outputs": [],
   "source": [
    "# CORRELATION CHECK\n",
    "\n",
    "plt.figure(figsize=(20,16))\n",
    "price_corr = h_train.corr()\n",
    "sns.heatmap(price_corr,annot=True, cmap=\"YlGnBu\")\n",
    "plt.title(\"Correlation Heatmap\")\n",
    "plt.show()"
   ]
  },
  {
   "cell_type": "markdown",
   "id": "e40eeb61",
   "metadata": {},
   "source": [
    "Univariate Analysis\n",
    "\n",
    "Bivariate Analysis"
   ]
  },
  {
   "cell_type": "code",
   "execution_count": null,
   "id": "b9210aec",
   "metadata": {},
   "outputs": [],
   "source": [
    "from scipy.stats import norm\n",
    "sns.distplot(h_train['SalePrice'], fit = norm)\n",
    "plt.show()"
   ]
  },
  {
   "cell_type": "code",
   "execution_count": null,
   "id": "148f481b",
   "metadata": {},
   "outputs": [],
   "source": [
    "f, ax = plt.subplots(2,3, figsize=(20,15))\n",
    "\n",
    "sns.histplot(data=h_train, x=\"SalePrice\", palette ='rainbow', kde=True, ax=ax[0,0])\n",
    "sns.histplot(data=h_train, x=\"LotArea\", palette ='rainbow', kde=True, ax=ax[1,0])\n",
    "sns.histplot(data=h_train, x=\"BsmtFinSF1\", palette ='rainbow', kde=True, ax=ax[0,1])\n",
    "sns.histplot(data=h_train, x=\"1stFlrSF\", palette ='rainbow', kde=True, ax=ax[1,1])\n",
    "sns.histplot(data=h_train, x=\"2ndFlrSF\", palette ='rainbow', kde=True, ax=ax[0,2])\n",
    "sns.histplot(data=h_train, x=\"GrLivArea\", palette ='rainbow', kde=True, ax=ax[1,2])"
   ]
  },
  {
   "cell_type": "code",
   "execution_count": null,
   "id": "ab4e6d64",
   "metadata": {},
   "outputs": [],
   "source": [
    "# CHECKING NUMERICAL COLUMNS\n",
    "num_d = h_train.select_dtypes(include = ['float64', 'int64'])\n",
    "num_d.columns"
   ]
  },
  {
   "cell_type": "code",
   "execution_count": null,
   "id": "cc10fbe0",
   "metadata": {},
   "outputs": [],
   "source": [
    "#CHECKING SOME RELATIONS\n",
    "pair_p('TotalBsmtSF', '1stFlrSF',\n",
    "       '2ndFlrSF', 'GrLivArea')"
   ]
  },
  {
   "cell_type": "code",
   "execution_count": null,
   "id": "84a6a204",
   "metadata": {},
   "outputs": [],
   "source": [
    "pair_p('BsmtFullBath', 'BsmtHalfBath', 'FullBath',\n",
    "       'HalfBath')"
   ]
  },
  {
   "cell_type": "code",
   "execution_count": null,
   "id": "bb08e57a",
   "metadata": {},
   "outputs": [],
   "source": [
    "\n",
    "pair_p('Age',\n",
    "       'Remod_Age', 'Garage_Age','SalePrice')"
   ]
  },
  {
   "cell_type": "code",
   "execution_count": null,
   "id": "747ad95a",
   "metadata": {},
   "outputs": [],
   "source": [
    "# CHECKING CATEGORICAL COLUMNS\n",
    "cat_d=h_train.select_dtypes(include='object')\n",
    "cat_d.columns"
   ]
  },
  {
   "cell_type": "code",
   "execution_count": null,
   "id": "de6a23db",
   "metadata": {},
   "outputs": [],
   "source": [
    "cat_chart('MSZoning', 'Street', False)\n",
    "cat_chart('LotShape', 'LandContour', False)"
   ]
  },
  {
   "cell_type": "code",
   "execution_count": null,
   "id": "12a06b94",
   "metadata": {},
   "outputs": [],
   "source": [
    "cat_chart('LotConfig', 'LandSlope',True)\n",
    "cat_chart('Condition1', 'Condition2', True)"
   ]
  },
  {
   "cell_type": "code",
   "execution_count": null,
   "id": "202a2d1f",
   "metadata": {},
   "outputs": [],
   "source": [
    "cat_chart('Exterior1st','Exterior2nd',True)\n",
    "cat_chart('MasVnrType', 'ExterQual', True)"
   ]
  },
  {
   "cell_type": "code",
   "execution_count": null,
   "id": "9c8d73d8",
   "metadata": {},
   "outputs": [],
   "source": [
    "cat_chart('BsmtFinType1', 'BsmtFinType2', True)\n",
    "cat_chart('Heating', 'HeatingQC', False)"
   ]
  },
  {
   "cell_type": "markdown",
   "id": "fe72c68d",
   "metadata": {},
   "source": [
    "# MODEL CREATION"
   ]
  },
  {
   "cell_type": "code",
   "execution_count": null,
   "id": "b0e62b24",
   "metadata": {},
   "outputs": [],
   "source": [
    "# CREATE X AND y\n",
    "y_train = h_train.pop('SalePrice') # Create a series for y_train\n",
    "X_train_1 = h_train # pop will remove 'total_user' inplace from df_train and leave us with X_train\n",
    "print('Shape of y_train :',y_train.shape)\n",
    "print('Shape of X_train :',X_train_1.shape)\n",
    "X_train_1.head()"
   ]
  },
  {
   "cell_type": "code",
   "execution_count": null,
   "id": "b7b38cec",
   "metadata": {},
   "outputs": [],
   "source": [
    "# DEFINE SCALAR \n",
    "minmax=MinMax()\n",
    "num_train = X_train_1.select_dtypes(exclude=['object'])\n",
    "num_train.columns\n",
    "X_train_1[num_train.columns] = minmax.fit_transform(X_train_1[num_train.columns])"
   ]
  },
  {
   "cell_type": "code",
   "execution_count": null,
   "id": "0fa6b1c1",
   "metadata": {},
   "outputs": [],
   "source": [
    "# SEGREGATE NUM COLUMNS\n",
    "num_train.columns"
   ]
  },
  {
   "cell_type": "code",
   "execution_count": null,
   "id": "366a6a24",
   "metadata": {},
   "outputs": [],
   "source": [
    "# CHECK EFFECT OF SCALAR\n",
    "X_train_1.head(3)"
   ]
  },
  {
   "cell_type": "code",
   "execution_count": null,
   "id": "0282c8a9",
   "metadata": {},
   "outputs": [],
   "source": [
    "#CREATE DUMMY VAR\n",
    "str_train = X_train_1.select_dtypes(include=['object'])\n",
    "str_train\n",
    "X_train = pd.get_dummies(X_train_1, columns = (str_train.columns), drop_first = True)\n",
    "X_train.head()"
   ]
  },
  {
   "cell_type": "code",
   "execution_count": null,
   "id": "c78650de",
   "metadata": {},
   "outputs": [],
   "source": [
    "#USING RFE FOR FEATURE ELIMINATION AND SELECTION\n",
    "lr_rfe = LinearRegression()\n",
    "lr_rfe.fit(X_train, y_train)\n",
    "\n",
    "rfe = RFE(estimator=lr_rfe, n_features_to_select=75) \n",
    "rfe = rfe.fit(X_train, y_train)"
   ]
  },
  {
   "cell_type": "code",
   "execution_count": null,
   "id": "3abbfd8a",
   "metadata": {},
   "outputs": [],
   "source": [
    "cols = X_train.columns[rfe.support_]\n",
    "cols"
   ]
  },
  {
   "cell_type": "code",
   "execution_count": null,
   "id": "c361f527",
   "metadata": {},
   "outputs": [],
   "source": [
    "# CREATE TRAIN SET\n",
    "X_train_1 = X_train[cols]\n",
    "X_train_1.head()"
   ]
  },
  {
   "cell_type": "code",
   "execution_count": null,
   "id": "305bc9ca",
   "metadata": {},
   "outputs": [],
   "source": [
    "#CREATE MODEL\n",
    "X_train_1_const = sm.add_constant(X_train_1)\n",
    "\n",
    "lr_sm_1 = sm.OLS(y_train, X_train_1_const).fit()"
   ]
  },
  {
   "cell_type": "code",
   "execution_count": null,
   "id": "cc4c4cc1",
   "metadata": {},
   "outputs": [],
   "source": [
    "# SUMMARY OF MODEL\n",
    "lr_sm_1.summary()"
   ]
  },
  {
   "cell_type": "code",
   "execution_count": null,
   "id": "c6195d35",
   "metadata": {},
   "outputs": [],
   "source": [
    "# CHECK FOR VIF\n",
    "vif = pd.DataFrame()\n",
    "vif['Features'] = X_train_1_const.columns\n",
    "vif['VIF'] = [variance_inflation_factor(X_train_1_const.values, i) for i in range(X_train_1_const.shape[1])]\n",
    "vif['VIF'] = round(vif['VIF'], 2)\n",
    "vif = vif.sort_values(by = \"VIF\", ascending = False)\n",
    "vif"
   ]
  },
  {
   "cell_type": "code",
   "execution_count": null,
   "id": "5372c9f4",
   "metadata": {},
   "outputs": [],
   "source": [
    "# DROP HIGHLY CORRELATED AND INSIGNIFICANT VARIABLES\n",
    "X_train_2 = X_train_1.drop('BsmtFinSF2', axis = 1)"
   ]
  },
  {
   "cell_type": "code",
   "execution_count": null,
   "id": "eaad9a62",
   "metadata": {},
   "outputs": [],
   "source": [
    "# ADD COEFFICIENT\n",
    "X_train_2_const = sm.add_constant(X_train_2)\n",
    "# FIT MODEL\n",
    "lr_sm_2 = sm.OLS(y_train, X_train_2_const).fit()"
   ]
  },
  {
   "cell_type": "code",
   "execution_count": null,
   "id": "0103b8bc",
   "metadata": {},
   "outputs": [],
   "source": [
    "lr_sm_2.summary()"
   ]
  },
  {
   "cell_type": "code",
   "execution_count": null,
   "id": "3447a521",
   "metadata": {},
   "outputs": [],
   "source": [
    "# CHECK FOR VIF\n",
    "vif = pd.DataFrame()\n",
    "vif['Features'] = X_train_2_const.columns\n",
    "vif['VIF'] = [variance_inflation_factor(X_train_2_const.values, i) for i in range(X_train_2_const.shape[1])]\n",
    "vif['VIF'] = round(vif['VIF'], 2)\n",
    "vif = vif.sort_values(by = \"VIF\", ascending = False)\n",
    "vif"
   ]
  },
  {
   "cell_type": "code",
   "execution_count": null,
   "id": "6c0f1666",
   "metadata": {},
   "outputs": [],
   "source": [
    "X_train_3 = X_train_2.drop('RoofMatl_Metal', axis = 1)"
   ]
  },
  {
   "cell_type": "code",
   "execution_count": null,
   "id": "e4a8a517",
   "metadata": {},
   "outputs": [],
   "source": [
    "X_train_3_const = sm.add_constant(X_train_3)\n",
    "lr_sm_3 = sm.OLS(y_train, X_train_3_const).fit()"
   ]
  },
  {
   "cell_type": "code",
   "execution_count": null,
   "id": "eb6565cd",
   "metadata": {},
   "outputs": [],
   "source": [
    "lr_sm_3.summary()"
   ]
  },
  {
   "cell_type": "code",
   "execution_count": null,
   "id": "850dd117",
   "metadata": {},
   "outputs": [],
   "source": [
    "vif = pd.DataFrame()\n",
    "vif['Features'] = X_train_3_const.columns\n",
    "vif['VIF'] = [variance_inflation_factor(X_train_3_const.values, i) for i in range(X_train_3_const.shape[1])]\n",
    "vif['VIF'] = round(vif['VIF'], 2)\n",
    "vif = vif.sort_values(by = \"VIF\", ascending = False)\n",
    "vif"
   ]
  },
  {
   "cell_type": "code",
   "execution_count": null,
   "id": "2c292d5d",
   "metadata": {},
   "outputs": [],
   "source": [
    "X_train_4 = X_train_3.drop('RoofMatl_WdShake', axis = 1)"
   ]
  },
  {
   "cell_type": "code",
   "execution_count": null,
   "id": "4d50b10b",
   "metadata": {},
   "outputs": [],
   "source": [
    "X_train_4_const = sm.add_constant(X_train_4)\n",
    "lr_sm_4 = sm.OLS(y_train, X_train_4_const).fit()"
   ]
  },
  {
   "cell_type": "code",
   "execution_count": null,
   "id": "e4541e76",
   "metadata": {},
   "outputs": [],
   "source": [
    "lr_sm_4.summary()"
   ]
  },
  {
   "cell_type": "code",
   "execution_count": null,
   "id": "514ea855",
   "metadata": {},
   "outputs": [],
   "source": [
    "vif = pd.DataFrame()\n",
    "vif['Features'] = X_train_4_const.columns\n",
    "vif['VIF'] = [variance_inflation_factor(X_train_4_const.values, i) for i in range(X_train_4_const.shape[1])]\n",
    "vif['VIF'] = round(vif['VIF'], 2)\n",
    "vif = vif.sort_values(by = \"VIF\", ascending = False)\n",
    "vif"
   ]
  },
  {
   "cell_type": "markdown",
   "id": "5c4c7bae",
   "metadata": {},
   "source": [
    "RFE 2 : STEPS REMAIN SIMILAR"
   ]
  },
  {
   "cell_type": "code",
   "execution_count": null,
   "id": "0f7ec6cc",
   "metadata": {},
   "outputs": [],
   "source": [
    "lr_rfe_1 = LinearRegression()\n",
    "lr_rfe_1.fit(X_train, y_train)\n",
    "\n",
    "rfe_1 = RFE(estimator=lr_rfe_1, n_features_to_select=40) \n",
    "rfe_1 = rfe_1.fit(X_train, y_train)"
   ]
  },
  {
   "cell_type": "code",
   "execution_count": null,
   "id": "07745bff",
   "metadata": {},
   "outputs": [],
   "source": [
    "cols_1 = X_train.columns[rfe_1.support_]\n",
    "cols_1"
   ]
  },
  {
   "cell_type": "code",
   "execution_count": null,
   "id": "60322fbc",
   "metadata": {},
   "outputs": [],
   "source": [
    "X_train2_1 = X_train[cols_1]\n",
    "X_train2_1.head()"
   ]
  },
  {
   "cell_type": "code",
   "execution_count": null,
   "id": "1843647e",
   "metadata": {},
   "outputs": [],
   "source": [
    "X_train2_1_const = sm.add_constant(X_train2_1)\n",
    "lr_sm2_1 = sm.OLS(y_train, X_train2_1_const).fit()"
   ]
  },
  {
   "cell_type": "code",
   "execution_count": null,
   "id": "6df11b49",
   "metadata": {},
   "outputs": [],
   "source": [
    "lr_sm2_1.summary()"
   ]
  },
  {
   "cell_type": "code",
   "execution_count": null,
   "id": "ef8a93f3",
   "metadata": {},
   "outputs": [],
   "source": [
    "vif = pd.DataFrame()\n",
    "vif['Features'] = X_train2_1_const.columns\n",
    "vif['VIF'] = [variance_inflation_factor(X_train2_1_const.values, i) for i in range(X_train2_1_const.shape[1])]\n",
    "vif['VIF'] = round(vif['VIF'], 2)\n",
    "vif = vif.sort_values(by = \"VIF\", ascending = False)\n",
    "vif"
   ]
  },
  {
   "cell_type": "code",
   "execution_count": null,
   "id": "768d9f0e",
   "metadata": {},
   "outputs": [],
   "source": [
    "X_train2_2 = X_train2_1.drop('RoofStyle_Shed', axis = 1)"
   ]
  },
  {
   "cell_type": "code",
   "execution_count": null,
   "id": "a0b42046",
   "metadata": {},
   "outputs": [],
   "source": [
    "X_train2_2_const = sm.add_constant(X_train2_2)\n",
    "lr_sm2_2 = sm.OLS(y_train, X_train2_2_const).fit()"
   ]
  },
  {
   "cell_type": "code",
   "execution_count": null,
   "id": "35625e60",
   "metadata": {},
   "outputs": [],
   "source": [
    "lr_sm2_2.summary()"
   ]
  },
  {
   "cell_type": "code",
   "execution_count": null,
   "id": "b8ec1016",
   "metadata": {},
   "outputs": [],
   "source": [
    "vif = pd.DataFrame()\n",
    "vif['Features'] = X_train2_2_const.columns\n",
    "vif['VIF'] = [variance_inflation_factor(X_train2_2_const.values, i) for i in range(X_train2_2_const.shape[1])]\n",
    "vif['VIF'] = round(vif['VIF'], 2)\n",
    "vif = vif.sort_values(by = \"VIF\", ascending = False)\n",
    "vif"
   ]
  },
  {
   "cell_type": "code",
   "execution_count": null,
   "id": "bd2de4a3",
   "metadata": {},
   "outputs": [],
   "source": [
    "X_train2_3 = X_train2_2.drop('RoofStyle_Gable', axis = 1)"
   ]
  },
  {
   "cell_type": "code",
   "execution_count": null,
   "id": "5555d4aa",
   "metadata": {},
   "outputs": [],
   "source": [
    "X_train2_3_const = sm.add_constant(X_train2_3)\n",
    "lr_sm2_3 = sm.OLS(y_train, X_train2_3_const).fit()"
   ]
  },
  {
   "cell_type": "code",
   "execution_count": null,
   "id": "d49814a1",
   "metadata": {},
   "outputs": [],
   "source": [
    "lr_sm2_3.summary()"
   ]
  },
  {
   "cell_type": "code",
   "execution_count": null,
   "id": "599a507f",
   "metadata": {},
   "outputs": [],
   "source": [
    "vif = pd.DataFrame()\n",
    "vif['Features'] = X_train2_3_const.columns\n",
    "vif['VIF'] = [variance_inflation_factor(X_train2_3_const.values, i) for i in range(X_train2_3_const.shape[1])]\n",
    "vif['VIF'] = round(vif['VIF'], 2)\n",
    "vif = vif.sort_values(by = \"VIF\", ascending = False)\n",
    "vif"
   ]
  },
  {
   "cell_type": "code",
   "execution_count": null,
   "id": "57058c40",
   "metadata": {},
   "outputs": [],
   "source": [
    "X_train2_4 = X_train2_3.drop('ExterQual_TA', axis = 1)"
   ]
  },
  {
   "cell_type": "code",
   "execution_count": null,
   "id": "89dc132f",
   "metadata": {},
   "outputs": [],
   "source": [
    "X_train2_4_const = sm.add_constant(X_train2_4)\n",
    "lr_sm2_4 = sm.OLS(y_train, X_train2_4_const).fit()"
   ]
  },
  {
   "cell_type": "code",
   "execution_count": null,
   "id": "1752868a",
   "metadata": {},
   "outputs": [],
   "source": [
    "lr_sm2_4.summary()"
   ]
  },
  {
   "cell_type": "code",
   "execution_count": null,
   "id": "13086f36",
   "metadata": {},
   "outputs": [],
   "source": [
    "vif = pd.DataFrame()\n",
    "vif['Features'] = X_train2_4_const.columns\n",
    "vif['VIF'] = [variance_inflation_factor(X_train2_4_const.values, i) for i in range(X_train2_4_const.shape[1])]\n",
    "vif['VIF'] = round(vif['VIF'], 2)\n",
    "vif = vif.sort_values(by = \"VIF\", ascending = False)\n",
    "vif"
   ]
  },
  {
   "cell_type": "code",
   "execution_count": null,
   "id": "8df4e768",
   "metadata": {},
   "outputs": [],
   "source": [
    "X_train2_5 = X_train2_4.drop('MSZoning_RL', axis = 1)"
   ]
  },
  {
   "cell_type": "code",
   "execution_count": null,
   "id": "448f535c",
   "metadata": {},
   "outputs": [],
   "source": [
    "X_train2_5_const = sm.add_constant(X_train2_5)\n",
    "lr_sm2_5 = sm.OLS(y_train, X_train2_5_const).fit()"
   ]
  },
  {
   "cell_type": "code",
   "execution_count": null,
   "id": "99456a43",
   "metadata": {},
   "outputs": [],
   "source": [
    "lr_sm2_5.summary()"
   ]
  },
  {
   "cell_type": "code",
   "execution_count": null,
   "id": "c9b9996b",
   "metadata": {},
   "outputs": [],
   "source": [
    "vif = pd.DataFrame()\n",
    "vif['Features'] = X_train2_5_const.columns\n",
    "vif['VIF'] = [variance_inflation_factor(X_train2_5_const.values, i) for i in range(X_train2_5_const.shape[1])]\n",
    "vif['VIF'] = round(vif['VIF'], 2)\n",
    "vif = vif.sort_values(by = \"VIF\", ascending = False)\n",
    "vif"
   ]
  },
  {
   "cell_type": "code",
   "execution_count": null,
   "id": "1da5b8f3",
   "metadata": {},
   "outputs": [],
   "source": [
    "X_train2_6 = X_train2_5.drop('BsmtQual_TA', axis = 1)"
   ]
  },
  {
   "cell_type": "code",
   "execution_count": null,
   "id": "de4376e0",
   "metadata": {},
   "outputs": [],
   "source": [
    "X_train2_6_const = sm.add_constant(X_train2_6)\n",
    "lr_sm2_6 = sm.OLS(y_train, X_train2_6_const).fit()"
   ]
  },
  {
   "cell_type": "code",
   "execution_count": null,
   "id": "d988d2c5",
   "metadata": {},
   "outputs": [],
   "source": [
    "lr_sm2_6.summary()"
   ]
  },
  {
   "cell_type": "code",
   "execution_count": null,
   "id": "e7a16d4a",
   "metadata": {},
   "outputs": [],
   "source": [
    "vif = pd.DataFrame()\n",
    "vif['Features'] = X_train2_6_const.columns\n",
    "vif['VIF'] = [variance_inflation_factor(X_train2_6_const.values, i) for i in range(X_train2_6_const.shape[1])]\n",
    "vif['VIF'] = round(vif['VIF'], 2)\n",
    "vif = vif.sort_values(by = \"VIF\", ascending = False)\n",
    "vif"
   ]
  },
  {
   "cell_type": "code",
   "execution_count": null,
   "id": "e1e0dc46",
   "metadata": {},
   "outputs": [],
   "source": [
    "X_train2_7 = X_train2_6.drop('ExterQual_Fa', axis = 1)"
   ]
  },
  {
   "cell_type": "code",
   "execution_count": null,
   "id": "dd6d8e5a",
   "metadata": {},
   "outputs": [],
   "source": [
    "X_train2_7_const = sm.add_constant(X_train2_7)\n",
    "lr_sm2_7 = sm.OLS(y_train, X_train2_7_const).fit()"
   ]
  },
  {
   "cell_type": "code",
   "execution_count": null,
   "id": "b1c4bca3",
   "metadata": {},
   "outputs": [],
   "source": [
    "lr_sm2_7.summary()"
   ]
  },
  {
   "cell_type": "code",
   "execution_count": null,
   "id": "6a0dcab3",
   "metadata": {},
   "outputs": [],
   "source": [
    "vif = pd.DataFrame()\n",
    "vif['Features'] = X_train2_7_const.columns\n",
    "vif['VIF'] = [variance_inflation_factor(X_train2_7_const.values, i) for i in range(X_train2_7_const.shape[1])]\n",
    "vif['VIF'] = round(vif['VIF'], 2)\n",
    "vif = vif.sort_values(by = \"VIF\", ascending = False)\n",
    "vif"
   ]
  },
  {
   "cell_type": "code",
   "execution_count": null,
   "id": "acfe842c",
   "metadata": {},
   "outputs": [],
   "source": [
    "X_train2_8 = X_train2_7.drop('RoofStyle_Hip', axis = 1)"
   ]
  },
  {
   "cell_type": "code",
   "execution_count": null,
   "id": "610e2613",
   "metadata": {},
   "outputs": [],
   "source": [
    "X_train2_8_const = sm.add_constant(X_train2_8)\n",
    "lr_sm2_8 = sm.OLS(y_train, X_train2_8_const).fit()"
   ]
  },
  {
   "cell_type": "code",
   "execution_count": null,
   "id": "80f1b56a",
   "metadata": {},
   "outputs": [],
   "source": [
    "lr_sm2_8.summary()"
   ]
  },
  {
   "cell_type": "code",
   "execution_count": null,
   "id": "3e718509",
   "metadata": {},
   "outputs": [],
   "source": [
    "vif = pd.DataFrame()\n",
    "vif['Features'] = X_train2_8_const.columns\n",
    "vif['VIF'] = [variance_inflation_factor(X_train2_8_const.values, i) for i in range(X_train2_8_const.shape[1])]\n",
    "vif['VIF'] = round(vif['VIF'], 2)\n",
    "vif = vif.sort_values(by = \"VIF\", ascending = False)\n",
    "vif"
   ]
  },
  {
   "cell_type": "code",
   "execution_count": null,
   "id": "bbb8c75d",
   "metadata": {},
   "outputs": [],
   "source": [
    "X_train2_9 = X_train2_8.drop('RoofStyle_Gambrel', axis = 1)"
   ]
  },
  {
   "cell_type": "code",
   "execution_count": null,
   "id": "ad67e87b",
   "metadata": {},
   "outputs": [],
   "source": [
    "X_train2_9_const = sm.add_constant(X_train2_9)\n",
    "lr_sm2_9 = sm.OLS(y_train, X_train2_9_const).fit()"
   ]
  },
  {
   "cell_type": "code",
   "execution_count": null,
   "id": "f40ef946",
   "metadata": {},
   "outputs": [],
   "source": [
    "lr_sm2_9.summary()"
   ]
  },
  {
   "cell_type": "code",
   "execution_count": null,
   "id": "c3d7e51a",
   "metadata": {},
   "outputs": [],
   "source": [
    "vif = pd.DataFrame()\n",
    "vif['Features'] = X_train2_9_const.columns\n",
    "vif['VIF'] = [variance_inflation_factor(X_train2_9_const.values, i) for i in range(X_train2_9_const.shape[1])]\n",
    "vif['VIF'] = round(vif['VIF'], 2)\n",
    "vif = vif.sort_values(by = \"VIF\", ascending = False)\n",
    "vif"
   ]
  },
  {
   "cell_type": "code",
   "execution_count": null,
   "id": "c78cf43c",
   "metadata": {},
   "outputs": [],
   "source": [
    "X_train2_10 = X_train2_9.drop('MSZoning_RH', axis = 1)"
   ]
  },
  {
   "cell_type": "code",
   "execution_count": null,
   "id": "8ea4249e",
   "metadata": {},
   "outputs": [],
   "source": [
    "X_train2_10_const = sm.add_constant(X_train2_10)\n",
    "lr_sm2_10 = sm.OLS(y_train, X_train2_10_const).fit()"
   ]
  },
  {
   "cell_type": "code",
   "execution_count": null,
   "id": "6ad645a9",
   "metadata": {},
   "outputs": [],
   "source": [
    "lr_sm2_10.summary()"
   ]
  },
  {
   "cell_type": "code",
   "execution_count": null,
   "id": "f0bcaaca",
   "metadata": {},
   "outputs": [],
   "source": [
    "X_train2_11 = X_train2_10.drop('RoofStyle_Mansard', axis = 1)"
   ]
  },
  {
   "cell_type": "code",
   "execution_count": null,
   "id": "b48fbc7d",
   "metadata": {},
   "outputs": [],
   "source": [
    "X_train2_11_const = sm.add_constant(X_train2_11)\n",
    "lr_sm2_11 = sm.OLS(y_train, X_train2_11_const).fit()"
   ]
  },
  {
   "cell_type": "code",
   "execution_count": null,
   "id": "0777bc9d",
   "metadata": {},
   "outputs": [],
   "source": [
    "lr_sm2_11.summary()"
   ]
  },
  {
   "cell_type": "code",
   "execution_count": null,
   "id": "bae9f60e",
   "metadata": {},
   "outputs": [],
   "source": [
    "X_train2_12 = X_train2_11.drop('KitchenQual_Fa', axis = 1)"
   ]
  },
  {
   "cell_type": "code",
   "execution_count": null,
   "id": "378458e0",
   "metadata": {},
   "outputs": [],
   "source": [
    "X_train2_12_const = sm.add_constant(X_train2_12)\n",
    "lr_sm2_12 = sm.OLS(y_train, X_train2_12_const).fit()"
   ]
  },
  {
   "cell_type": "code",
   "execution_count": null,
   "id": "3b168527",
   "metadata": {},
   "outputs": [],
   "source": [
    "lr_sm2_12.summary()"
   ]
  },
  {
   "cell_type": "markdown",
   "id": "76e786e8",
   "metadata": {},
   "source": [
    "WE MODELLED 16 MODELS IN TOTAL FOR RFE "
   ]
  },
  {
   "cell_type": "markdown",
   "id": "6ece373e",
   "metadata": {},
   "source": [
    "RIDGE & LASSO REGRESSION\n",
    "\n"
   ]
  },
  {
   "cell_type": "code",
   "execution_count": null,
   "id": "88178366",
   "metadata": {},
   "outputs": [],
   "source": [
    "from sklearn.model_selection import GridSearchCV\n",
    "from sklearn import metrics"
   ]
  },
  {
   "cell_type": "code",
   "execution_count": null,
   "id": "d1236d56",
   "metadata": {},
   "outputs": [],
   "source": [
    "params = {'alpha': [0.0001, 0.001, 0.005,0.05,0.10,0.008]}\n",
    "ridge = Ridge()\n",
    "#CROSS VALIDATION\n",
    "folds = 5\n",
    "model_ridge = GridSearchCV(estimator = ridge, \n",
    "                        param_grid = params, \n",
    "                        scoring= 'neg_mean_absolute_error', \n",
    "                        cv = folds, \n",
    "                        return_train_score=True,\n",
    "                        verbose = 1)            \n",
    "model_ridge.fit(X_train2_12, y_train)"
   ]
  },
  {
   "cell_type": "code",
   "execution_count": null,
   "id": "59c3b45e",
   "metadata": {},
   "outputs": [],
   "source": [
    "print(model_ridge.best_params_)\n",
    "print(model_ridge.best_score_)\n",
    "ridge_best_param = model_ridge.best_params_"
   ]
  },
  {
   "cell_type": "code",
   "execution_count": null,
   "id": "50f34344",
   "metadata": {},
   "outputs": [],
   "source": [
    "ridge_results = pd.DataFrame(model_ridge.cv_results_)\n",
    "ridge_results = ridge_results[ridge_results['param_alpha']<=100]\n",
    "ridge_results.head()"
   ]
  },
  {
   "cell_type": "code",
   "execution_count": null,
   "id": "4a57ae94",
   "metadata": {},
   "outputs": [],
   "source": [
    "ridge_results['param_alpha'] = ridge_results['param_alpha'].astype('int32')\n",
    "plt.figure(figsize=(16,5))\n",
    "\n",
    "# PLOTTING RIDGE RESULTS\n",
    "plt.plot(ridge_results['param_alpha'], ridge_results['mean_train_score'])\n",
    "plt.plot(ridge_results['param_alpha'], ridge_results['mean_test_score'])\n",
    "plt.xlabel('alpha')\n",
    "plt.ylabel('Negative Mean Absolute Error')\n",
    "plt.title(\"Negative Mean Absolute Error and alpha\")\n",
    "plt.legend(['train score', 'test score'], loc='upper right')\n",
    "plt.show()"
   ]
  },
  {
   "cell_type": "code",
   "execution_count": null,
   "id": "1e545093",
   "metadata": {},
   "outputs": [],
   "source": [
    "#FITTING WITH BEST LAMBDA VALUE\n",
    "alpha = .1\n",
    "ridge = Ridge(alpha=alpha)\n",
    "\n",
    "ridge.fit(X_train2_12, y_train)\n",
    "ridge.coef_"
   ]
  },
  {
   "cell_type": "code",
   "execution_count": null,
   "id": "f4ba6cc2",
   "metadata": {},
   "outputs": [],
   "source": [
    "y_train_pred = ridge.predict(X_train2_12)\n",
    "print(metrics.r2_score(y_true=y_train, y_pred=y_train_pred))"
   ]
  },
  {
   "cell_type": "code",
   "execution_count": null,
   "id": "86390c3a",
   "metadata": {},
   "outputs": [],
   "source": [
    "#LASSO & CROSS VALIDATION\n",
    "params = {'alpha': [0.005, 0.01, 0.001, 0.05, 0.0001]}\n",
    "lasso = Lasso()\n",
    "\n",
    "model_lasso = GridSearchCV(estimator = lasso, \n",
    "                        param_grid = params, \n",
    "                        scoring= 'neg_mean_absolute_error', \n",
    "                        cv = folds, \n",
    "                        return_train_score=True,\n",
    "                        verbose = 1)            \n",
    "\n",
    "model_lasso.fit(X_train2_12, y_train)"
   ]
  },
  {
   "cell_type": "code",
   "execution_count": null,
   "id": "6a69e12c",
   "metadata": {},
   "outputs": [],
   "source": [
    "print(model_lasso.best_params_)\n",
    "print(model_lasso.best_score_)\n",
    "lasso_best_param = model_lasso.best_params_"
   ]
  },
  {
   "cell_type": "code",
   "execution_count": null,
   "id": "9bb81662",
   "metadata": {},
   "outputs": [],
   "source": [
    "lasso_results = pd.DataFrame(model_ridge.cv_results_)\n",
    "lasso_results = ridge_results[ridge_results['param_alpha']<=100]\n",
    "lasso_results.head()"
   ]
  },
  {
   "cell_type": "code",
   "execution_count": null,
   "id": "9c068302",
   "metadata": {},
   "outputs": [],
   "source": [
    "lasso_results['param_alpha'] = lasso_results['param_alpha'].astype('int32')\n",
    "plt.figure(figsize=(16,5))\n",
    "\n",
    "# PLOTTING RESULTS\n",
    "plt.plot(lasso_results['param_alpha'], lasso_results['mean_train_score'])\n",
    "plt.plot(lasso_results['param_alpha'], lasso_results['mean_test_score'])\n",
    "plt.xlabel('alpha')\n",
    "plt.ylabel('Negative Mean Absolute Error')\n",
    "plt.title(\"Negative Mean Absolute Error and alpha\")\n",
    "plt.legend(['train score', 'test score'], loc='upper right')\n",
    "plt.show()"
   ]
  },
  {
   "cell_type": "code",
   "execution_count": null,
   "id": "fa591e0c",
   "metadata": {},
   "outputs": [],
   "source": [
    "alpha = 0.05\n",
    "\n",
    "lasso = Lasso(alpha=alpha)\n",
    "        \n",
    "lasso.fit(X_train2_12, y_train)"
   ]
  },
  {
   "cell_type": "code",
   "execution_count": null,
   "id": "cd2c2d65",
   "metadata": {},
   "outputs": [],
   "source": [
    "y_train_pred_lasso = lasso.predict(X_train2_12)\n",
    "print(metrics.r2_score(y_true=y_train, y_pred=y_train_pred_lasso))"
   ]
  },
  {
   "cell_type": "code",
   "execution_count": null,
   "id": "fe354bd4",
   "metadata": {},
   "outputs": [],
   "source": [
    "h_test.info()"
   ]
  },
  {
   "cell_type": "code",
   "execution_count": null,
   "id": "dc56761d",
   "metadata": {},
   "outputs": [],
   "source": [
    "#REMOVING MISSING VALUES\n",
    "missing_data(h_test)"
   ]
  },
  {
   "cell_type": "code",
   "execution_count": null,
   "id": "abb38eb1",
   "metadata": {},
   "outputs": [],
   "source": [
    "#DELETING VARIABLES\n",
    "h_test.drop(['Alley', 'FireplaceQu', 'PoolQC', 'Fence', 'MiscFeature'], axis = 1, inplace=True)"
   ]
  },
  {
   "cell_type": "code",
   "execution_count": null,
   "id": "9364ee0c",
   "metadata": {},
   "outputs": [],
   "source": [
    "#IMPUTE VALUES\n",
    "impute_values(h_test)"
   ]
  },
  {
   "cell_type": "code",
   "execution_count": null,
   "id": "9213686b",
   "metadata": {},
   "outputs": [],
   "source": [
    "#CHECKING UNIQUE VALUES\n",
    "h_test.nunique().sort_values()"
   ]
  },
  {
   "cell_type": "code",
   "execution_count": null,
   "id": "ac0bf93e",
   "metadata": {},
   "outputs": [],
   "source": [
    "h_test['MSSubClass'] = h_test['MSSubClass'].astype('str')"
   ]
  },
  {
   "cell_type": "code",
   "execution_count": null,
   "id": "d543c6a5",
   "metadata": {},
   "outputs": [],
   "source": [
    "#DROPPING REDUNDANT VARIABLES\n",
    "h_test=h_test.drop(['PoolArea','Id','3SsnPorch','LowQualFinSF','Utilities'], axis=1)"
   ]
  },
  {
   "cell_type": "code",
   "execution_count": null,
   "id": "374cdd15",
   "metadata": {},
   "outputs": [],
   "source": [
    "#DERIVED VARIABLES\n",
    "h_test['Age'] = h_test['YrSold'] - h_test['YearBuilt']\n",
    "h_test['Remod_Age'] = h_test['YrSold'] - h_test['YearRemodAdd']\n",
    "h_test['Garage_Age'] = h_test['YrSold'] - h_test['GarageYrBlt']\n",
    "h_test.drop(['YearBuilt','YearRemodAdd','GarageYrBlt','YrSold'],1, inplace = True)"
   ]
  },
  {
   "cell_type": "code",
   "execution_count": null,
   "id": "d1873915",
   "metadata": {},
   "outputs": [],
   "source": [
    "#CREATE X & Y\n",
    "y_test = h_test.pop('SalePrice') # Create a series for y_train\n",
    "X_test = h_test # pop will remove 'total_user' inplace from df_train and leave us with X_train\n",
    "print('Shape of y_test :',y_test.shape)\n",
    "print('Shape of X_test :',X_test.shape)\n",
    "X_test.head()"
   ]
  },
  {
   "cell_type": "code",
   "execution_count": null,
   "id": "3e365d82",
   "metadata": {},
   "outputs": [],
   "source": [
    "# Scaling numerical variables using minmax scalar which was used earlier\n",
    "num_test = X_test.select_dtypes(exclude=['object'])\n",
    "num_test.columns\n",
    "X_test[num_test.columns] = minmax.transform(X_test[num_test.columns])"
   ]
  },
  {
   "cell_type": "code",
   "execution_count": null,
   "id": "65a2a771",
   "metadata": {},
   "outputs": [],
   "source": [
    "num_test.columns"
   ]
  },
  {
   "cell_type": "code",
   "execution_count": null,
   "id": "3d26296f",
   "metadata": {},
   "outputs": [],
   "source": [
    "#CREATE DUMMY VARIABLES\n",
    "str_test = X_test.select_dtypes(include=['object'])\n",
    "str_test\n",
    "X_test = pd.get_dummies(X_test, columns = (str_test.columns), drop_first = True)\n",
    "X_test.head()"
   ]
  },
  {
   "cell_type": "code",
   "execution_count": null,
   "id": "3c3cdbaf",
   "metadata": {},
   "outputs": [],
   "source": [
    "missing_cols = set( X_train.columns ) - set( X_test.columns )\n",
    "missing_cols\n",
    "#ADD MISSING VALUE\n",
    "for c in missing_cols:\n",
    "    X_test[c] = 0\n",
    "X_test = X_test[X_train.columns]"
   ]
  },
  {
   "cell_type": "code",
   "execution_count": null,
   "id": "d22c93bc",
   "metadata": {},
   "outputs": [],
   "source": [
    "print(X_train.shape)\n",
    "print(X_test.shape)"
   ]
  },
  {
   "cell_type": "code",
   "execution_count": null,
   "id": "dcae3234",
   "metadata": {},
   "outputs": [],
   "source": [
    "#DROPPING HIGHLY CORELATED AND INSIGNIFICANT VARIABLES\n",
    "X_test_1 = X_test_1.drop(['RoofStyle_Shed','RoofStyle_Gable','ExterQual_TA','MSZoning_RL',\n",
    "                          'BsmtQual_TA','ExterQual_Fa','RoofStyle_Hip','RoofStyle_Gambrel','MSZoning_RH','RoofStyle_Mansard','KitchenQual_Fa'], axis = 1)\n"
   ]
  },
  {
   "cell_type": "markdown",
   "id": "b9cf6a89",
   "metadata": {},
   "source": [
    "MODEL EVALUATION"
   ]
  },
  {
   "cell_type": "code",
   "execution_count": null,
   "id": "f1fbb24b",
   "metadata": {},
   "outputs": [],
   "source": [
    "#PREDICT USING RIDGE \n",
    "y_test_pred_ridge = ridge.predict(X_test_1)\n",
    "print(metrics.r2_score(y_true=y_test, y_pred=y_test_pred_ridge))\n",
    "\n",
    "#PREDICT USING LAMBDA\n",
    "y_test_pred_lasso = lasso.predict(X_test_1)\n",
    "print(metrics.r2_score(y_true=y_test, y_pred=y_test_pred_lasso))"
   ]
  },
  {
   "cell_type": "markdown",
   "id": "047a34d4",
   "metadata": {},
   "source": [
    "CONCLUSION\n",
    "\n",
    "\n",
    "The variables that affect the pricing most are:\n",
    "\n",
    "Lot Area\n",
    "\n",
    "GrLivArea\n",
    "\n",
    "Grage Area\n",
    "\n",
    "Age of House\n",
    "\n",
    "Age of remodelling\n",
    "\n",
    "Overal condition of house\n",
    "\n",
    "Number of baths\n",
    "\n",
    "Porch Area\n",
    "\n",
    "\n",
    "Model Selection\n",
    "\n",
    "Both Ridge and Lasso models seems to underfit.\n",
    "\n",
    "Accuracy of models:\n",
    "Train Data\n",
    "\n",
    "Ridge: 86.6\n",
    "Lasso: 86.6\n",
    "\n",
    "Test Data\n",
    "Ridge: 66.51\n",
    "Lasso: 66.48\n",
    "\n",
    "Selcted Model: Ridge with alpha = .1\n",
    "\n"
   ]
  },
  {
   "cell_type": "code",
   "execution_count": null,
   "id": "3c8d2f12",
   "metadata": {},
   "outputs": [],
   "source": []
  },
  {
   "cell_type": "code",
   "execution_count": null,
   "id": "317ce66c",
   "metadata": {},
   "outputs": [],
   "source": []
  }
 ],
 "metadata": {
  "kernelspec": {
   "display_name": "Python 3 (ipykernel)",
   "language": "python",
   "name": "python3"
  },
  "language_info": {
   "codemirror_mode": {
    "name": "ipython",
    "version": 3
   },
   "file_extension": ".py",
   "mimetype": "text/x-python",
   "name": "python",
   "nbconvert_exporter": "python",
   "pygments_lexer": "ipython3",
   "version": "3.8.3"
  }
 },
 "nbformat": 4,
 "nbformat_minor": 5
}
